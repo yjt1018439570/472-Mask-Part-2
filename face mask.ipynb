{
 "cells": [
  {
   "cell_type": "code",
   "execution_count": 484,
   "id": "c5024b36",
   "metadata": {},
   "outputs": [],
   "source": [
    "import numpy as np\n",
    "import pandas as pd\n",
    "import matplotlib.pyplot as plt\n",
    "\n",
    "import torch\n",
    "import torch.nn as nn\n",
    "import torch.nn.functional as F\n",
    "import torch.optim as optim\n",
    "from torch.utils.data import DataLoader, random_split, SubsetRandomSampler, Subset, WeightedRandomSampler,ConcatDataset\n",
    "\n",
    "import torchvision\n",
    "from torch.autograd import Variable\n",
    "from torchvision.datasets import ImageFolder, DatasetFolder\n",
    "import torchvision.transforms as transforms\n",
    "import torchvision.datasets\n",
    "\n",
    "\n",
    "\n",
    "import sklearn\n",
    "from sklearn.metrics import confusion_matrix, classification_report\n",
    "from sklearn.metrics import confusion_matrix\n",
    "from sklearn.metrics import f1_score\n",
    "from sklearn.metrics import recall_score\n",
    "from sklearn.metrics import precision_score\n",
    "from sklearn.metrics import accuracy_score\n",
    "from sklearn.metrics import plot_confusion_matrix\n",
    "from sklearn.model_selection import cross_val_score\n",
    "from sklearn.model_selection import KFold\n",
    "\n",
    "from skorch import NeuralNetClassifier\n",
    "from skorch.helper import SliceDataset\n",
    "\n",
    "import os\n",
    "import seaborn as sns\n",
    "import itertools\n",
    "import PIL\n",
    "from PIL import Image\n",
    "import warnings\n",
    "import splitfolders\n",
    "\n",
    "device = torch.device('cuda' if torch.cuda.is_available() else 'cpu')\n",
    "\n",
    "import torch.nn.functional as fun\n",
    "\n",
    "import pandas as pd\n",
    "from tqdm.notebook import tqdm"
   ]
  },
  {
   "cell_type": "markdown",
   "id": "598a7cd0",
   "metadata": {},
   "source": [
    "#### Preprocessing data"
   ]
  },
  {
   "cell_type": "code",
   "execution_count": 9,
   "id": "ee57af07",
   "metadata": {},
   "outputs": [
    {
     "name": "stderr",
     "output_type": "stream",
     "text": [
      "Copying files: 3804 files [00:04, 822.11 files/s] \n",
      "Copying files: 1928 files [00:09, 199.95 files/s]\n",
      "Copying files: 1876 files [00:09, 204.67 files/s]\n"
     ]
    }
   ],
   "source": [
    "#split data\n",
    "splitfolders.ratio(\"../Comp_472 Group Project - Copy/all\", output=\"../Comp_472 Group Project - Copy/dataset/all\", seed=0, ratio=(.8, 0.1,0.1))\n",
    "#splitfolders.ratio(\"../Comp_472 Group Project - Copy/female\", output=\"../Comp_472 Group Project - Copy/dataset/female\", seed=0, ratio=(.8, 0.1,0.1))\n",
    "#splitfolders.ratio(\"../Comp_472 Group Project - Copy/male\", output=\"../Comp_472 Group Project - Copy/dataset/male\", seed=0, ratio=(.8, 0.1,0.1))"
   ]
  },
  {
   "cell_type": "code",
   "execution_count": 322,
   "id": "d396ac18",
   "metadata": {},
   "outputs": [
    {
     "name": "stderr",
     "output_type": "stream",
     "text": [
      "Copying files: 1700 files [00:07, 218.19 files/s]\n"
     ]
    }
   ],
   "source": [
    "splitfolders.ratio(\"../Comp_472 Group Project - Copy/old dataset\", output=\"../Comp_472 Group Project - Copy/old dataset\", seed=0, ratio=(.8, 0.1,0.1))"
   ]
  },
  {
   "cell_type": "code",
   "execution_count": 485,
   "id": "bb6732a0",
   "metadata": {},
   "outputs": [],
   "source": [
    "#resize the image into 32*32 pixels\n",
    "train_transform = torchvision.transforms.Compose([transforms.ToTensor(),\n",
    "                                                  transforms.Resize((32,32)),\n",
    "                                                  transforms.RandomCrop(32),\n",
    "                                                 ])\n",
    "targets = ['N95mask', 'clothmask', 'nomask', 'surgicalmask']\n",
    "#transforms.Normalize((0.5, 0.5, 0.5), (0.5, 0.5, 0.5))"
   ]
  },
  {
   "cell_type": "code",
   "execution_count": 486,
   "id": "51d12219",
   "metadata": {},
   "outputs": [],
   "source": [
    "#train data\n",
    "data_dir = \"../Comp_472 Group Project - Copy/dataset/all/train\"\n",
    "train_dataset = torchvision.datasets.ImageFolder(data_dir, transform = train_transform)\n",
    "\n",
    "trainloader = torch.utils.data.DataLoader(\n",
    "    train_dataset, batch_size=700, shuffle = True\n",
    ")\n"
   ]
  },
  {
   "cell_type": "code",
   "execution_count": 487,
   "id": "b36f0c58",
   "metadata": {},
   "outputs": [],
   "source": [
    "#test data\n",
    "test_dir = \"../Comp_472 Group Project - Copy/dataset/all/test\"\n",
    "test_dataset = torchvision.datasets.ImageFolder(test_dir, transform = train_transform)\n",
    "\n",
    "testloader = torch.utils.data.DataLoader(\n",
    "    test_dataset, batch_size=100, shuffle = True\n",
    ")"
   ]
  },
  {
   "cell_type": "code",
   "execution_count": 488,
   "id": "20f2713d",
   "metadata": {},
   "outputs": [],
   "source": [
    "# old data\n",
    "data_dir2 = \"../Comp_472 Group Project - Copy/old dataset/train\"\n",
    "train_dataset2 = torchvision.datasets.ImageFolder(data_dir2, transform = train_transform)\n",
    "\n",
    "trainloader2 = torch.utils.data.DataLoader(\n",
    "    train_dataset2, batch_size=700, shuffle = True\n",
    ")"
   ]
  },
  {
   "cell_type": "markdown",
   "id": "0a7ef55c",
   "metadata": {},
   "source": [
    "#### Modeling"
   ]
  },
  {
   "cell_type": "code",
   "execution_count": 489,
   "id": "15928ed9",
   "metadata": {},
   "outputs": [],
   "source": [
    "#Model refence from Internet with modification of numbers\n",
    "class CNN(nn.Module):\n",
    "    def __init__(self):\n",
    "        super(CNN, self).__init__()\n",
    "        \n",
    "        self.conv1 = nn.Sequential(\n",
    "            nn.Conv2d(3, 64, kernel_size = 3, padding = 1),\n",
    "            nn.ReLU(),\n",
    "            nn.BatchNorm2d(64),\n",
    "            nn.MaxPool2d(2),\n",
    "        )\n",
    "        \n",
    "        self.conv2 = nn.Sequential(\n",
    "            nn.Conv2d(64, 128, kernel_size = 3, padding = 1),\n",
    "            nn.ReLU(),\n",
    "            nn.BatchNorm2d(128),\n",
    "            nn.MaxPool2d(2),\n",
    "        )\n",
    "        \n",
    "        self.conv3 = nn.Sequential(\n",
    "            nn.Conv2d(128, 256, kernel_size = 3, padding = 1),\n",
    "            nn.ReLU(),\n",
    "            nn.BatchNorm2d(256),\n",
    "            nn.MaxPool2d(2),\n",
    "        )\n",
    "        \n",
    "        self.fc1 = nn.Linear(256 * 4 * 4, 1024)\n",
    "        self.fc2 = nn.Linear(1024, 512)\n",
    "        self.fc3 = nn.Linear(512,10)\n",
    "        \n",
    "    def forward(self, x):\n",
    "        x = self.conv1(x)\n",
    "        x = self.conv2(x)\n",
    "        x = self.conv3(x)\n",
    "        x = x.view(x.size(0), -1)\n",
    "        x = F.dropout(x, p=0.12)\n",
    "        x = F.relu(self.fc1(x))\n",
    "        x = F.dropout(x, p=0.8)\n",
    "        x = F.relu(self.fc2(x))\n",
    "        x = F.dropout(x, p=0.6)\n",
    "        x = self.fc3(x)\n",
    "        return x"
   ]
  },
  {
   "cell_type": "code",
   "execution_count": 490,
   "id": "da191254",
   "metadata": {},
   "outputs": [
    {
     "data": {
      "text/plain": [
       "CNN(\n",
       "  (conv1): Sequential(\n",
       "    (0): Conv2d(3, 64, kernel_size=(3, 3), stride=(1, 1), padding=(1, 1))\n",
       "    (1): ReLU()\n",
       "    (2): BatchNorm2d(64, eps=1e-05, momentum=0.1, affine=True, track_running_stats=True)\n",
       "    (3): MaxPool2d(kernel_size=2, stride=2, padding=0, dilation=1, ceil_mode=False)\n",
       "  )\n",
       "  (conv2): Sequential(\n",
       "    (0): Conv2d(64, 128, kernel_size=(3, 3), stride=(1, 1), padding=(1, 1))\n",
       "    (1): ReLU()\n",
       "    (2): BatchNorm2d(128, eps=1e-05, momentum=0.1, affine=True, track_running_stats=True)\n",
       "    (3): MaxPool2d(kernel_size=2, stride=2, padding=0, dilation=1, ceil_mode=False)\n",
       "  )\n",
       "  (conv3): Sequential(\n",
       "    (0): Conv2d(128, 256, kernel_size=(3, 3), stride=(1, 1), padding=(1, 1))\n",
       "    (1): ReLU()\n",
       "    (2): BatchNorm2d(256, eps=1e-05, momentum=0.1, affine=True, track_running_stats=True)\n",
       "    (3): MaxPool2d(kernel_size=2, stride=2, padding=0, dilation=1, ceil_mode=False)\n",
       "  )\n",
       "  (fc1): Linear(in_features=4096, out_features=1024, bias=True)\n",
       "  (fc2): Linear(in_features=1024, out_features=512, bias=True)\n",
       "  (fc3): Linear(in_features=512, out_features=10, bias=True)\n",
       ")"
      ]
     },
     "execution_count": 490,
     "metadata": {},
     "output_type": "execute_result"
    }
   ],
   "source": [
    "n = len(set(train_dataset.targets))\n",
    "model = CNN()\n",
    "model.to(device)"
   ]
  },
  {
   "cell_type": "code",
   "execution_count": 491,
   "id": "7794a3ee",
   "metadata": {},
   "outputs": [],
   "source": [
    "criterion = nn.CrossEntropyLoss()\n",
    "optimizer = torch.optim.Adam(model.parameters())"
   ]
  },
  {
   "cell_type": "markdown",
   "id": "4daee4fb",
   "metadata": {},
   "source": [
    "#### Training"
   ]
  },
  {
   "cell_type": "code",
   "execution_count": 492,
   "id": "d305956f",
   "metadata": {},
   "outputs": [],
   "source": [
    "#modify from https://www.programcreek.com/python/?CodeExample=train+epoch\n",
    "def train(model, criterion, optimizer, trainloader, epochs):\n",
    "  train_losses = np.zeros(epochs)\n",
    "\n",
    "  for i in range(epochs):\n",
    "    train_loss = []\n",
    "    for inputs, targets in trainloader:\n",
    "      inputs, targets = inputs.to(device), targets.to(device)\n",
    "      optimizer.zero_grad()\n",
    "\n",
    "      outputs = model(inputs)\n",
    "      loss = criterion(outputs, targets)\n",
    "\n",
    "      loss.backward()\n",
    "      optimizer.step()\n",
    "\n",
    "      train_loss.append(loss.item())\n",
    "    train_loss = np.mean(train_loss)\n",
    "    train_losses[i] = train_loss\n",
    "    \n",
    "    print(f'Epoch:{i+1}/{epochs}, Train Loss: {train_loss:.4f}')\n",
    "    \n",
    "  return train_losses\n"
   ]
  },
  {
   "cell_type": "code",
   "execution_count": 493,
   "id": "d13097cc",
   "metadata": {},
   "outputs": [
    {
     "name": "stdout",
     "output_type": "stream",
     "text": [
      "Epoch:1/20, Train Loss: 1.6808\n",
      "Epoch:2/20, Train Loss: 1.1027\n",
      "Epoch:3/20, Train Loss: 0.8922\n",
      "Epoch:4/20, Train Loss: 0.7917\n",
      "Epoch:5/20, Train Loss: 0.7054\n",
      "Epoch:6/20, Train Loss: 0.6472\n",
      "Epoch:7/20, Train Loss: 0.5952\n",
      "Epoch:8/20, Train Loss: 0.5451\n",
      "Epoch:9/20, Train Loss: 0.4945\n",
      "Epoch:10/20, Train Loss: 0.4369\n",
      "Epoch:11/20, Train Loss: 0.3994\n",
      "Epoch:12/20, Train Loss: 0.3502\n",
      "Epoch:13/20, Train Loss: 0.3058\n",
      "Epoch:14/20, Train Loss: 0.2640\n",
      "Epoch:15/20, Train Loss: 0.2420\n",
      "Epoch:16/20, Train Loss: 0.2071\n",
      "Epoch:17/20, Train Loss: 0.1834\n",
      "Epoch:18/20, Train Loss: 0.1569\n",
      "Epoch:19/20, Train Loss: 0.1340\n",
      "Epoch:20/20, Train Loss: 0.1192\n"
     ]
    }
   ],
   "source": [
    "#training takes about 5 minute for 20 epochs\n",
    "train_losses = train(model, criterion, optimizer, trainloader, epochs=20)"
   ]
  },
  {
   "cell_type": "code",
   "execution_count": 494,
   "id": "831cd26a",
   "metadata": {},
   "outputs": [
    {
     "name": "stdout",
     "output_type": "stream",
     "text": [
      "[1.68084631 1.10272503 0.89221379 0.79171205 0.70537484 0.64721868\n",
      " 0.59521296 0.54507481 0.49445585 0.43686243 0.39939549 0.3501756\n",
      " 0.30577123 0.26395515 0.24200912 0.20712392 0.18338258 0.15685204\n",
      " 0.13401294 0.11918312]\n"
     ]
    }
   ],
   "source": [
    "print(train_losses)"
   ]
  },
  {
   "cell_type": "code",
   "execution_count": 495,
   "id": "2a86bd06",
   "metadata": {},
   "outputs": [],
   "source": [
    "PATH = \"MyModel.pt\""
   ]
  },
  {
   "cell_type": "code",
   "execution_count": 496,
   "id": "d8f80155",
   "metadata": {},
   "outputs": [],
   "source": [
    "# save model\n",
    "torch.save(model, PATH)"
   ]
  },
  {
   "cell_type": "code",
   "execution_count": 497,
   "id": "35e7a356",
   "metadata": {},
   "outputs": [
    {
     "data": {
      "text/plain": [
       "CNN(\n",
       "  (conv1): Sequential(\n",
       "    (0): Conv2d(3, 64, kernel_size=(3, 3), stride=(1, 1), padding=(1, 1))\n",
       "    (1): ReLU()\n",
       "    (2): BatchNorm2d(64, eps=1e-05, momentum=0.1, affine=True, track_running_stats=True)\n",
       "    (3): MaxPool2d(kernel_size=2, stride=2, padding=0, dilation=1, ceil_mode=False)\n",
       "  )\n",
       "  (conv2): Sequential(\n",
       "    (0): Conv2d(64, 128, kernel_size=(3, 3), stride=(1, 1), padding=(1, 1))\n",
       "    (1): ReLU()\n",
       "    (2): BatchNorm2d(128, eps=1e-05, momentum=0.1, affine=True, track_running_stats=True)\n",
       "    (3): MaxPool2d(kernel_size=2, stride=2, padding=0, dilation=1, ceil_mode=False)\n",
       "  )\n",
       "  (conv3): Sequential(\n",
       "    (0): Conv2d(128, 256, kernel_size=(3, 3), stride=(1, 1), padding=(1, 1))\n",
       "    (1): ReLU()\n",
       "    (2): BatchNorm2d(256, eps=1e-05, momentum=0.1, affine=True, track_running_stats=True)\n",
       "    (3): MaxPool2d(kernel_size=2, stride=2, padding=0, dilation=1, ceil_mode=False)\n",
       "  )\n",
       "  (fc1): Linear(in_features=4096, out_features=1024, bias=True)\n",
       "  (fc2): Linear(in_features=1024, out_features=512, bias=True)\n",
       "  (fc3): Linear(in_features=512, out_features=10, bias=True)\n",
       ")"
      ]
     },
     "execution_count": 497,
     "metadata": {},
     "output_type": "execute_result"
    }
   ],
   "source": [
    "# load model\n",
    "model = torch.load(PATH)\n",
    "model.eval()"
   ]
  },
  {
   "cell_type": "code",
   "execution_count": 500,
   "id": "5b6b7c54",
   "metadata": {},
   "outputs": [
    {
     "data": {
      "image/png": "[encoded data removed]",
      "text/plain": [
       "<Figure size 432x288 with 1 Axes>"
      ]
     },
     "metadata": {
      "needs_background": "light"
     },
     "output_type": "display_data"
    }
   ],
   "source": [
    "# train_losses =[1.68084631 1.10272503 0.89221379 0.79171205 0.70537484 0.64721868\n",
    "#  0.59521296 0.54507481 0.49445585 0.43686243 0.39939549 0.3501756\n",
    "#  0.30577123 0.26395515 0.24200912 0.20712392 0.18338258 0.15685204\n",
    "#  0.13401294 0.11918312]\n",
    "plt.plot(train_losses, label = \"Train Loss\")\n",
    "plt.legend()\n",
    "plt.show()"
   ]
  },
  {
   "cell_type": "markdown",
   "id": "30a0bb0c",
   "metadata": {},
   "source": [
    "#### Evaluation"
   ]
  },
  {
   "cell_type": "code",
   "execution_count": 503,
   "id": "aeec992b",
   "metadata": {},
   "outputs": [],
   "source": [
    "model.eval()\n",
    "\n",
    "y_true = []\n",
    "y_pred = []\n",
    "\n",
    "with torch.no_grad():\n",
    "    correct = 0\n",
    "    total = 0\n",
    "    for images, labels in testloader:\n",
    "        outputs = model(images)\n",
    "        _, predicted = torch.max(outputs.data, 1)\n",
    "        \n",
    "        for l,p in zip(labels.numpy(), predicted.numpy()):\n",
    "            y_true.append(targets[l])\n",
    "            y_pred.append(targets[p])"
   ]
  },
  {
   "cell_type": "code",
   "execution_count": 504,
   "id": "a7ec12ab",
   "metadata": {},
   "outputs": [
    {
     "name": "stdout",
     "output_type": "stream",
     "text": [
      "Accuracy:  0.810\n",
      "Precision:  0.833\n",
      "Recall:  0.810\n",
      "F1-measure:  0.812\n"
     ]
    }
   ],
   "source": [
    "#Use method from sklearn\n",
    "#Question: why the accuracy thing keeps changing every time I run it\n",
    "accuracy = accuracy_score(y_true, y_pred)\n",
    "precision = precision_score(y_true, y_pred, average=\"weighted\")\n",
    "recall = recall_score(y_true, y_pred, average=\"weighted\")\n",
    "f1 = f1_score(y_true, y_pred, average=\"weighted\")\n",
    "\n",
    "\n",
    "print(f\"Accuracy: {accuracy: .3f}\")\n",
    "print(f\"Precision: {precision: .3f}\")\n",
    "print(f\"Recall: {recall: .3f}\")\n",
    "print(f\"F1-measure: {f1: .3f}\")"
   ]
  },
  {
   "cell_type": "code",
   "execution_count": 505,
   "id": "440b5b83",
   "metadata": {},
   "outputs": [],
   "source": [
    "#Method found on https://scikit-learn.org/0.18/auto_examples/model_selection/plot_confusion_matrix.html\n",
    "def plot_confusion_matrix(cm, classes, normalize=False,title='Confusion matrix', cmap=plt.cm.Blues):\n",
    "    \"\"\"\n",
    "    This function prints and plots the confusion matrix.\n",
    "    Normalization can be applied by setting `normalize=True`.\n",
    "    \"\"\"\n",
    "    plt.figure(figsize=(5,5))\n",
    "    plt.imshow(cm, interpolation='nearest', cmap=cmap)\n",
    "    plt.title(title)\n",
    "    plt.colorbar()\n",
    "    tick_marks = np.arange(len(classes))\n",
    "    plt.xticks(tick_marks, classes, rotation=45)\n",
    "    plt.yticks(tick_marks, classes)\n",
    "\n",
    "    if normalize:\n",
    "        cm = cm.astype('float') / cm.sum(axis=1)[:, np.newaxis]\n",
    "#        print(\"Normalized confusion matrix\")\n",
    "#    else:\n",
    "#        print('Confusion matrix, without normalization')\n",
    "\n",
    "    print(cm)\n",
    "\n",
    "    thresh = cm.max() / 2.\n",
    "    for i, j in itertools.product(range(cm.shape[0]), range(cm.shape[1])):\n",
    "        plt.text(j, i, cm[i, j],\n",
    "                 horizontalalignment=\"center\",\n",
    "                 color=\"white\" if cm[i, j] > thresh else \"black\")\n",
    "\n",
    "    plt.tight_layout()\n",
    "    plt.ylabel('True label')\n",
    "    plt.xlabel('Predicted label')"
   ]
  },
  {
   "cell_type": "code",
   "execution_count": 506,
   "id": "3edaa4be",
   "metadata": {},
   "outputs": [],
   "source": [
    "confusion_matrix(y_true=y_true, y_pred=y_pred)\n",
    "cm_plot_labels = targets\n",
    "cm = confusion_matrix(y_true=y_true, y_pred=y_pred, labels=cm_plot_labels)"
   ]
  },
  {
   "cell_type": "code",
   "execution_count": 507,
   "id": "9138ec59",
   "metadata": {},
   "outputs": [
    {
     "name": "stdout",
     "output_type": "stream",
     "text": [
      "[[71 16  4  4]\n",
      " [ 5 89  2  0]\n",
      " [ 6 10 85  2]\n",
      " [ 4 19  1 66]]\n"
     ]
    },
    {
     "data": {
      "image/png": "[encoded data removed]",
      "text/plain": [
       "<Figure size 360x360 with 2 Axes>"
      ]
     },
     "metadata": {
      "needs_background": "light"
     },
     "output_type": "display_data"
    }
   ],
   "source": [
    "plot_confusion_matrix(cm=cm, classes=cm_plot_labels, title=\"Confusion Matrix\", cmap=plt.cm.Blues)"
   ]
  },
  {
   "cell_type": "markdown",
   "id": "8760284c",
   "metadata": {},
   "source": [
    "#### Bias evaluation for female"
   ]
  },
  {
   "cell_type": "code",
   "execution_count": 508,
   "id": "6759efc8",
   "metadata": {},
   "outputs": [],
   "source": [
    "#female\n",
    "data_dir0 = \"../Comp_472 Group Project - Copy/dataset/female\"\n",
    "train_dataset0 = torchvision.datasets.ImageFolder(data_dir0, transform = train_transform)\n",
    "\n",
    "trainloader0 = torch.utils.data.DataLoader(\n",
    "    train_dataset0, batch_size=400, shuffle = True\n",
    ")\n",
    "\n",
    "# #female test\n",
    "# test_dir0 = \"../Comp_472 Group Project - Copy/dataset/female/test\"\n",
    "# test_dataset0 = torchvision.datasets.ImageFolder(test_dir0, transform = train_transform)\n",
    "\n",
    "# testloader0 = torch.utils.data.DataLoader(\n",
    "#     test_dataset0, batch_size=100, shuffle = True\n",
    "# )\n"
   ]
  },
  {
   "cell_type": "code",
   "execution_count": 509,
   "id": "ff6aa061",
   "metadata": {},
   "outputs": [],
   "source": [
    "model.eval()\n",
    "\n",
    "y_true0 = []\n",
    "y_pred0 = []\n",
    "\n",
    "with torch.no_grad():\n",
    "    correct = 0\n",
    "    total = 0\n",
    "    for images, labels in trainloader0:\n",
    "        outputs = model(images)\n",
    "        _, predicted = torch.max(outputs.data, 1)\n",
    "        \n",
    "        for l,p in zip(labels.numpy(), predicted.numpy()):\n",
    "            y_true0.append(targets[l])\n",
    "            y_pred0.append(targets[p])"
   ]
  },
  {
   "cell_type": "code",
   "execution_count": 510,
   "id": "7d45a65e",
   "metadata": {},
   "outputs": [
    {
     "name": "stdout",
     "output_type": "stream",
     "text": [
      "Accuracy:  0.924\n",
      "Precision:  0.933\n",
      "Recall:  0.924\n",
      "F1-measure:  0.924\n"
     ]
    }
   ],
   "source": [
    "accuracy = accuracy_score(y_true0, y_pred0)\n",
    "precision = precision_score(y_true0, y_pred0, average=\"weighted\")\n",
    "recall = recall_score(y_true0, y_pred0, average=\"weighted\")\n",
    "f1 = f1_score(y_true0, y_pred0, average=\"weighted\")\n",
    "\n",
    "\n",
    "print(f\"Accuracy: {accuracy: .3f}\")\n",
    "print(f\"Precision: {precision: .3f}\")\n",
    "print(f\"Recall: {recall: .3f}\")\n",
    "print(f\"F1-measure: {f1: .3f}\")"
   ]
  },
  {
   "cell_type": "code",
   "execution_count": 511,
   "id": "751f9568",
   "metadata": {},
   "outputs": [],
   "source": [
    "confusion_matrix(y_true=y_true0, y_pred=y_pred0)\n",
    "cm_plot_labels = targets\n",
    "cm0 = confusion_matrix(y_true=y_true0, y_pred=y_pred0, labels=cm_plot_labels)"
   ]
  },
  {
   "cell_type": "code",
   "execution_count": 512,
   "id": "935dca4e",
   "metadata": {},
   "outputs": [
    {
     "name": "stdout",
     "output_type": "stream",
     "text": [
      "[[429  38  10   5]\n",
      " [  2 468   3   2]\n",
      " [  1   7 486   0]\n",
      " [ 12  65   2 398]]\n"
     ]
    },
    {
     "data": {
      "image/png": "[encoded data removed]",
      "text/plain": [
       "<Figure size 360x360 with 2 Axes>"
      ]
     },
     "metadata": {
      "needs_background": "light"
     },
     "output_type": "display_data"
    }
   ],
   "source": [
    "plot_confusion_matrix(cm=cm0, classes=cm_plot_labels, title=\"Confusion Matrix\", cmap=plt.cm.Blues)"
   ]
  },
  {
   "cell_type": "markdown",
   "id": "00394f45",
   "metadata": {},
   "source": [
    "#### Bias evaluation for male"
   ]
  },
  {
   "cell_type": "code",
   "execution_count": 513,
   "id": "215f608e",
   "metadata": {},
   "outputs": [],
   "source": [
    "#male\n",
    "data_dir1 = \"../Comp_472 Group Project - Copy/dataset/male\"\n",
    "train_dataset1 = torchvision.datasets.ImageFolder(data_dir0, transform = train_transform)\n",
    "\n",
    "trainloader1 = torch.utils.data.DataLoader(\n",
    "    train_dataset1, batch_size=350, shuffle = True\n",
    ")\n",
    "\n",
    "# #male test\n",
    "# test_dir1 = \"../Comp_472 Group Project - Copy/dataset/male/test\"\n",
    "# test_dataset1 = torchvision.datasets.ImageFolder(test_dir0, transform = train_transform)\n",
    "\n",
    "# testloader1 = torch.utils.data.DataLoader(\n",
    "#     test_dataset1, batch_size=100, shuffle = True\n",
    "# )"
   ]
  },
  {
   "cell_type": "code",
   "execution_count": 514,
   "id": "a03d9218",
   "metadata": {},
   "outputs": [],
   "source": [
    "model.eval()\n",
    "\n",
    "y_true1 = []\n",
    "y_pred1 = []\n",
    "\n",
    "with torch.no_grad():\n",
    "    correct = 0\n",
    "    total = 0\n",
    "    for images, labels in trainloader1:\n",
    "        outputs = model(images)\n",
    "        _, predicted = torch.max(outputs.data, 1)\n",
    "        \n",
    "        for l,p in zip(labels.numpy(), predicted.numpy()):\n",
    "            y_true1.append(targets[l])\n",
    "            y_pred1.append(targets[p])"
   ]
  },
  {
   "cell_type": "code",
   "execution_count": 515,
   "id": "18ba2230",
   "metadata": {},
   "outputs": [
    {
     "name": "stdout",
     "output_type": "stream",
     "text": [
      "Accuracy:  0.925\n",
      "Precision:  0.933\n",
      "Recall:  0.925\n",
      "F1-measure:  0.925\n"
     ]
    }
   ],
   "source": [
    "accuracy = accuracy_score(y_true1, y_pred1)\n",
    "precision = precision_score(y_true1, y_pred1, average=\"weighted\")\n",
    "recall = recall_score(y_true1, y_pred1, average=\"weighted\")\n",
    "f1 = f1_score(y_true1, y_pred1, average=\"weighted\")\n",
    "\n",
    "\n",
    "print(f\"Accuracy: {accuracy: .3f}\")\n",
    "print(f\"Precision: {precision: .3f}\")\n",
    "print(f\"Recall: {recall: .3f}\")\n",
    "print(f\"F1-measure: {f1: .3f}\")"
   ]
  },
  {
   "cell_type": "code",
   "execution_count": 516,
   "id": "17286279",
   "metadata": {},
   "outputs": [],
   "source": [
    "confusion_matrix(y_true=y_true1, y_pred=y_pred1)\n",
    "cm_plot_labels = targets\n",
    "cm1 = confusion_matrix(y_true=y_true1, y_pred=y_pred1, labels=cm_plot_labels)"
   ]
  },
  {
   "cell_type": "code",
   "execution_count": 517,
   "id": "b289219a",
   "metadata": {},
   "outputs": [
    {
     "name": "stdout",
     "output_type": "stream",
     "text": [
      "[[427  38   3  14]\n",
      " [  3 472   0   0]\n",
      " [  2   6 486   0]\n",
      " [ 13  62   4 398]]\n"
     ]
    },
    {
     "data": {
      "image/png": "[encoded data removed]",
      "text/plain": [
       "<Figure size 360x360 with 2 Axes>"
      ]
     },
     "metadata": {
      "needs_background": "light"
     },
     "output_type": "display_data"
    }
   ],
   "source": [
    "plot_confusion_matrix(cm=cm1, classes=cm_plot_labels, title=\"Confusion Matrix\", cmap=plt.cm.Blues)"
   ]
  },
  {
   "cell_type": "code",
   "execution_count": 518,
   "id": "dc7121f9",
   "metadata": {},
   "outputs": [
    {
     "name": "stdout",
     "output_type": "stream",
     "text": [
      "3420\n",
      "1737\n"
     ]
    }
   ],
   "source": [
    "train_val_loader = ConcatDataset([train_dataset, val_dataset])\n",
    "print(len(train_val_loader))\n",
    "\n",
    "train_val_loader2 = ConcatDataset([train_dataset2, val_dataset])\n",
    "print(len(train_val_loader2))"
   ]
  },
  {
   "cell_type": "code",
   "execution_count": 519,
   "id": "1d2341e2",
   "metadata": {},
   "outputs": [],
   "source": [
    "def images_to_probs(net, images):  # to predict the class labels \n",
    "    output = net(images)\n",
    "    _, preds_tensor = torch.max(output, 1)  \n",
    "    preds = np.squeeze(preds_tensor.numpy())\n",
    "    return preds, [F.softmax(el, dim=0)[i].item() for i, el in zip(preds, output)]"
   ]
  },
  {
   "cell_type": "code",
   "execution_count": 520,
   "id": "ac1634e1",
   "metadata": {},
   "outputs": [],
   "source": [
    "def evaluate_accuracy(net, dataloader):  # method to evaluate the accuracy of the passed dataset\n",
    "    correct, total = 0, 0\n",
    "    with torch.no_grad():\n",
    "        net.eval()\n",
    "        for images, labels in dataloader:\n",
    "            images, labels = images, labels.numpy()\n",
    "            preds, probs = images_to_probs(net, images)\n",
    "\n",
    "            total += len(labels)   # counting total no. of dataset\n",
    "            correct += (preds == labels).sum()  # counting correct predictions done by the model\n",
    "    return correct/total * 100"
   ]
  },
  {
   "cell_type": "code",
   "execution_count": 521,
   "id": "df53566f",
   "metadata": {},
   "outputs": [],
   "source": [
    "def train_model(net,  criterion, opt, train_image, test_images,epochs):  # train model based on the given parameter\n",
    "    num_steps = 0  \n",
    "    min_loss = 1e+10\n",
    "    running_loss = []  # to store the loss of each epochs \n",
    "    val_running_loss = []  # to store the loss of each epochs \n",
    "    epochs_loss = []\n",
    "    accuracy = []  # to store the accuracy of each epochs\n",
    "    for epoch in tqdm(range(1, epochs+1), total=epochs, desc='Training'):\n",
    "        #print(type(train_images))\n",
    "        num_steps += 1\n",
    "        net.train() # Setting the network to TRAIN mode\n",
    "        for images, labels in train_image:\n",
    "            train_images, train_labels = images, labels\n",
    "            \n",
    "            outs = net(train_images)   # Forward Propagation on the Model\n",
    "            loss =  criterion(outs, train_labels)\n",
    "\n",
    "            running_loss.append(loss.item()) # Storing loss values\n",
    "\n",
    "           # Backward Propagation on the Model\n",
    "            opt.zero_grad()   \n",
    "            loss.backward()\n",
    "            opt.step()\n",
    "\n",
    "        \n",
    "        epoch_loss = sum(running_loss) / len(running_loss) # calculating loss for each epoch\n",
    "        epochs_loss.append(epoch_loss)\n",
    "        acc = evaluate_accuracy(net, test_images) # calculating the accuracy for each epoch\n",
    " \n",
    "        accuracy.append(acc)\n",
    "\n",
    "        print(\"Accuracy of the Model in epoch {} : {}\".format(num_steps, acc)) \n",
    "        print(\"Loss of the current epoch: \",epoch_loss)\n",
    "        \n",
    "        \n",
    "        \n",
    "        if epoch_loss < min_loss:  # Finding the minimum loss\n",
    "            min_loss = epoch_loss\n",
    "            bestmodel = net.state_dict()\n",
    "    return running_loss, epochs_loss, accuracy\n",
    "\n",
    "    print('Training finished on the Train data-sets!!!')"
   ]
  },
  {
   "cell_type": "markdown",
   "id": "51413449",
   "metadata": {},
   "source": [
    "#### K fold on new dataset"
   ]
  },
  {
   "cell_type": "code",
   "execution_count": 523,
   "id": "8c521901",
   "metadata": {
    "scrolled": true
   },
   "outputs": [
    {
     "name": "stdout",
     "output_type": "stream",
     "text": [
      "----------------K fold:1----------:\n"
     ]
    },
    {
     "data": {
      "application/vnd.jupyter.widget-view+json": {
       "model_id": "f4bb83b83428460e8ab24880bcbc8b0a",
       "version_major": 2,
       "version_minor": 0
      },
      "text/plain": [
       "Training:   0%|          | 0/10 [00:00<?, ?it/s]"
      ]
     },
     "metadata": {},
     "output_type": "display_data"
    },
    {
     "name": "stdout",
     "output_type": "stream",
     "text": [
      "Accuracy of the Model in epoch 1 : 93.85964912280701\n",
      "Loss of the current epoch:  0.1790107953317103\n",
      "Accuracy of the Model in epoch 2 : 95.6140350877193\n",
      "Loss of the current epoch:  0.18558154386963935\n",
      "Accuracy of the Model in epoch 3 : 94.15204678362574\n",
      "Loss of the current epoch:  0.18938173341404607\n",
      "Accuracy of the Model in epoch 4 : 93.85964912280701\n",
      "Loss of the current epoch:  0.18817759959981026\n",
      "Accuracy of the Model in epoch 5 : 95.32163742690058\n",
      "Loss of the current epoch:  0.19067794559072823\n",
      "Accuracy of the Model in epoch 6 : 95.02923976608187\n",
      "Loss of the current epoch:  0.1905485548477079\n",
      "Accuracy of the Model in epoch 7 : 93.85964912280701\n",
      "Loss of the current epoch:  0.19016943013076648\n",
      "Accuracy of the Model in epoch 8 : 94.73684210526315\n",
      "Loss of the current epoch:  0.18851191127173333\n",
      "Accuracy of the Model in epoch 9 : 94.15204678362574\n",
      "Loss of the current epoch:  0.19002764105486372\n",
      "Accuracy of the Model in epoch 10 : 95.02923976608187\n",
      "Loss of the current epoch:  0.19112200418772596\n",
      "----------------K fold:2----------:\n"
     ]
    },
    {
     "data": {
      "application/vnd.jupyter.widget-view+json": {
       "model_id": "f051dd9e99904c309c90919d9bc9106c",
       "version_major": 2,
       "version_minor": 0
      },
      "text/plain": [
       "Training:   0%|          | 0/10 [00:00<?, ?it/s]"
      ]
     },
     "metadata": {},
     "output_type": "display_data"
    },
    {
     "name": "stdout",
     "output_type": "stream",
     "text": [
      "Accuracy of the Model in epoch 1 : 94.73684210526315\n",
      "Loss of the current epoch:  0.199513113727012\n",
      "Accuracy of the Model in epoch 2 : 94.44444444444444\n",
      "Loss of the current epoch:  0.19410021675209846\n",
      "Accuracy of the Model in epoch 3 : 94.73684210526315\n",
      "Loss of the current epoch:  0.1917405746356454\n",
      "Accuracy of the Model in epoch 4 : 93.85964912280701\n",
      "Loss of the current epoch:  0.19148849795061734\n",
      "Accuracy of the Model in epoch 5 : 93.27485380116958\n",
      "Loss of the current epoch:  0.1915097227049691\n",
      "Accuracy of the Model in epoch 6 : 92.69005847953217\n",
      "Loss of the current epoch:  0.1902050344869294\n",
      "Accuracy of the Model in epoch 7 : 94.44444444444444\n",
      "Loss of the current epoch:  0.1896073979471514\n",
      "Accuracy of the Model in epoch 8 : 93.27485380116958\n",
      "Loss of the current epoch:  0.19141856223277207\n",
      "Accuracy of the Model in epoch 9 : 93.56725146198829\n",
      "Loss of the current epoch:  0.19212153181266775\n",
      "Accuracy of the Model in epoch 10 : 93.56725146198829\n",
      "Loss of the current epoch:  0.19156937736627316\n",
      "----------------K fold:3----------:\n"
     ]
    },
    {
     "data": {
      "application/vnd.jupyter.widget-view+json": {
       "model_id": "cf0dd0dc16f64bdda42a6e7ccece9035",
       "version_major": 2,
       "version_minor": 0
      },
      "text/plain": [
       "Training:   0%|          | 0/10 [00:00<?, ?it/s]"
      ]
     },
     "metadata": {},
     "output_type": "display_data"
    },
    {
     "name": "stdout",
     "output_type": "stream",
     "text": [
      "Accuracy of the Model in epoch 1 : 94.44444444444444\n",
      "Loss of the current epoch:  0.2033753199202399\n",
      "Accuracy of the Model in epoch 2 : 94.73684210526315\n",
      "Loss of the current epoch:  0.19201832907574792\n",
      "Accuracy of the Model in epoch 3 : 94.44444444444444\n",
      "Loss of the current epoch:  0.194861335149135\n",
      "Accuracy of the Model in epoch 4 : 93.85964912280701\n",
      "Loss of the current epoch:  0.19489403541440203\n",
      "Accuracy of the Model in epoch 5 : 93.56725146198829\n",
      "Loss of the current epoch:  0.19249598675918195\n",
      "Accuracy of the Model in epoch 6 : 94.15204678362574\n",
      "Loss of the current epoch:  0.19432859586411586\n",
      "Accuracy of the Model in epoch 7 : 95.6140350877193\n",
      "Loss of the current epoch:  0.19441465235182218\n",
      "Accuracy of the Model in epoch 8 : 93.56725146198829\n",
      "Loss of the current epoch:  0.19340457149871415\n",
      "Accuracy of the Model in epoch 9 : 94.44444444444444\n",
      "Loss of the current epoch:  0.19354077927287547\n",
      "Accuracy of the Model in epoch 10 : 94.15204678362574\n",
      "Loss of the current epoch:  0.19374838958404236\n",
      "----------------K fold:4----------:\n"
     ]
    },
    {
     "data": {
      "application/vnd.jupyter.widget-view+json": {
       "model_id": "fe4a09e1d4f54ccabfe8215ee44cce5f",
       "version_major": 2,
       "version_minor": 0
      },
      "text/plain": [
       "Training:   0%|          | 0/10 [00:00<?, ?it/s]"
      ]
     },
     "metadata": {},
     "output_type": "display_data"
    },
    {
     "name": "stdout",
     "output_type": "stream",
     "text": [
      "Accuracy of the Model in epoch 1 : 93.56725146198829\n",
      "Loss of the current epoch:  0.19498918884463848\n",
      "Accuracy of the Model in epoch 2 : 95.6140350877193\n",
      "Loss of the current epoch:  0.18879104094699986\n",
      "Accuracy of the Model in epoch 3 : 95.02923976608187\n",
      "Loss of the current epoch:  0.18911722205298884\n",
      "Accuracy of the Model in epoch 4 : 92.98245614035088\n",
      "Loss of the current epoch:  0.19249725513791124\n",
      "Accuracy of the Model in epoch 5 : 95.32163742690058\n",
      "Loss of the current epoch:  0.19156927579953786\n",
      "Accuracy of the Model in epoch 6 : 93.85964912280701\n",
      "Loss of the current epoch:  0.19149372272033205\n",
      "Accuracy of the Model in epoch 7 : 95.90643274853801\n",
      "Loss of the current epoch:  0.1892995224570349\n",
      "Accuracy of the Model in epoch 8 : 94.73684210526315\n",
      "Loss of the current epoch:  0.19099927025907223\n",
      "Accuracy of the Model in epoch 9 : 95.32163742690058\n",
      "Loss of the current epoch:  0.18952256165391443\n",
      "Accuracy of the Model in epoch 10 : 95.02923976608187\n",
      "Loss of the current epoch:  0.18819165907559857\n",
      "----------------K fold:5----------:\n"
     ]
    },
    {
     "data": {
      "application/vnd.jupyter.widget-view+json": {
       "model_id": "cf95d5ca225e4ba7a5173ce7977c66ca",
       "version_major": 2,
       "version_minor": 0
      },
      "text/plain": [
       "Training:   0%|          | 0/10 [00:00<?, ?it/s]"
      ]
     },
     "metadata": {},
     "output_type": "display_data"
    },
    {
     "name": "stdout",
     "output_type": "stream",
     "text": [
      "Accuracy of the Model in epoch 1 : 95.90643274853801\n",
      "Loss of the current epoch:  0.1898552172426735\n",
      "Accuracy of the Model in epoch 2 : 96.78362573099415\n",
      "Loss of the current epoch:  0.19394903240965738\n",
      "Accuracy of the Model in epoch 3 : 96.49122807017544\n",
      "Loss of the current epoch:  0.19696896846696574\n",
      "Accuracy of the Model in epoch 4 : 95.02923976608187\n",
      "Loss of the current epoch:  0.1950975656659613\n",
      "Accuracy of the Model in epoch 5 : 95.32163742690058\n",
      "Loss of the current epoch:  0.1943068206250187\n",
      "Accuracy of the Model in epoch 6 : 95.6140350877193\n",
      "Loss of the current epoch:  0.19562800949118953\n",
      "Accuracy of the Model in epoch 7 : 94.73684210526315\n",
      "Loss of the current epoch:  0.1961256047830947\n",
      "Accuracy of the Model in epoch 8 : 96.78362573099415\n",
      "Loss of the current epoch:  0.19385925606418883\n",
      "Accuracy of the Model in epoch 9 : 95.6140350877193\n",
      "Loss of the current epoch:  0.19369205626856043\n",
      "Accuracy of the Model in epoch 10 : 94.44444444444444\n",
      "Loss of the current epoch:  0.1932911335355452\n",
      "----------------K fold:6----------:\n"
     ]
    },
    {
     "data": {
      "application/vnd.jupyter.widget-view+json": {
       "model_id": "d1d9770d44d74f4587cd21a78485fc99",
       "version_major": 2,
       "version_minor": 0
      },
      "text/plain": [
       "Training:   0%|          | 0/10 [00:00<?, ?it/s]"
      ]
     },
     "metadata": {},
     "output_type": "display_data"
    },
    {
     "name": "stdout",
     "output_type": "stream",
     "text": [
      "Accuracy of the Model in epoch 1 : 96.19883040935673\n",
      "Loss of the current epoch:  0.2034331392797251\n",
      "Accuracy of the Model in epoch 2 : 96.78362573099415\n",
      "Loss of the current epoch:  0.20159710060444572\n",
      "Accuracy of the Model in epoch 3 : 95.6140350877193\n",
      "Loss of the current epoch:  0.20329840746658143\n",
      "Accuracy of the Model in epoch 4 : 95.6140350877193\n",
      "Loss of the current epoch:  0.20131880624760543\n",
      "Accuracy of the Model in epoch 5 : 95.90643274853801\n",
      "Loss of the current epoch:  0.19972826237640073\n",
      "Accuracy of the Model in epoch 6 : 97.07602339181285\n",
      "Loss of the current epoch:  0.20145424470926324\n",
      "Accuracy of the Model in epoch 7 : 96.49122807017544\n",
      "Loss of the current epoch:  0.20338058222110988\n",
      "Accuracy of the Model in epoch 8 : 96.49122807017544\n",
      "Loss of the current epoch:  0.20389117245119245\n",
      "Accuracy of the Model in epoch 9 : 96.19883040935673\n",
      "Loss of the current epoch:  0.20214119586446005\n",
      "Accuracy of the Model in epoch 10 : 96.49122807017544\n",
      "Loss of the current epoch:  0.20122350307872458\n",
      "----------------K fold:7----------:\n"
     ]
    },
    {
     "data": {
      "application/vnd.jupyter.widget-view+json": {
       "model_id": "ceeab06d5e4248cbb01e564e3ca448b3",
       "version_major": 2,
       "version_minor": 0
      },
      "text/plain": [
       "Training:   0%|          | 0/10 [00:00<?, ?it/s]"
      ]
     },
     "metadata": {},
     "output_type": "display_data"
    },
    {
     "name": "stdout",
     "output_type": "stream",
     "text": [
      "Accuracy of the Model in epoch 1 : 93.27485380116958\n",
      "Loss of the current epoch:  0.18521807517015165\n",
      "Accuracy of the Model in epoch 2 : 93.56725146198829\n",
      "Loss of the current epoch:  0.18504982482972404\n",
      "Accuracy of the Model in epoch 3 : 94.15204678362574\n",
      "Loss of the current epoch:  0.1883524051386743\n",
      "Accuracy of the Model in epoch 4 : 93.27485380116958\n",
      "Loss of the current epoch:  0.18759627812241594\n",
      "Accuracy of the Model in epoch 5 : 93.27485380116958\n",
      "Loss of the current epoch:  0.1887931250636616\n",
      "Accuracy of the Model in epoch 6 : 93.56725146198829\n",
      "Loss of the current epoch:  0.18922111374997003\n",
      "Accuracy of the Model in epoch 7 : 94.73684210526315\n",
      "Loss of the current epoch:  0.19055722136273637\n",
      "Accuracy of the Model in epoch 8 : 94.73684210526315\n",
      "Loss of the current epoch:  0.190739905078625\n",
      "Accuracy of the Model in epoch 9 : 93.85964912280701\n",
      "Loss of the current epoch:  0.19074759809266922\n",
      "Accuracy of the Model in epoch 10 : 94.44444444444444\n",
      "Loss of the current epoch:  0.1892616398752697\n",
      "----------------K fold:8----------:\n"
     ]
    },
    {
     "data": {
      "application/vnd.jupyter.widget-view+json": {
       "model_id": "0574fbda7daf43e093dbeffc2c3082a2",
       "version_major": 2,
       "version_minor": 0
      },
      "text/plain": [
       "Training:   0%|          | 0/10 [00:00<?, ?it/s]"
      ]
     },
     "metadata": {},
     "output_type": "display_data"
    },
    {
     "name": "stdout",
     "output_type": "stream",
     "text": [
      "Accuracy of the Model in epoch 1 : 94.73684210526315\n",
      "Loss of the current epoch:  0.1967235478242078\n",
      "Accuracy of the Model in epoch 2 : 94.73684210526315\n",
      "Loss of the current epoch:  0.19418001437800064\n",
      "Accuracy of the Model in epoch 3 : 94.44444444444444\n",
      "Loss of the current epoch:  0.1911662985540686\n",
      "Accuracy of the Model in epoch 4 : 95.32163742690058\n",
      "Loss of the current epoch:  0.1913078266567731\n",
      "Accuracy of the Model in epoch 5 : 93.56725146198829\n",
      "Loss of the current epoch:  0.1909626356160809\n",
      "Accuracy of the Model in epoch 6 : 94.44444444444444\n",
      "Loss of the current epoch:  0.1901061289120085\n",
      "Accuracy of the Model in epoch 7 : 93.85964912280701\n",
      "Loss of the current epoch:  0.18718250898305275\n",
      "Accuracy of the Model in epoch 8 : 93.56725146198829\n",
      "Loss of the current epoch:  0.18744425978342583\n",
      "Accuracy of the Model in epoch 9 : 92.69005847953217\n",
      "Loss of the current epoch:  0.1859990602824837\n",
      "Accuracy of the Model in epoch 10 : 93.85964912280701\n",
      "Loss of the current epoch:  0.1856852305204337\n",
      "----------------K fold:9----------:\n"
     ]
    },
    {
     "data": {
      "application/vnd.jupyter.widget-view+json": {
       "model_id": "a9ea8eabafe34a87b4197ba10785153f",
       "version_major": 2,
       "version_minor": 0
      },
      "text/plain": [
       "Training:   0%|          | 0/10 [00:00<?, ?it/s]"
      ]
     },
     "metadata": {},
     "output_type": "display_data"
    },
    {
     "name": "stdout",
     "output_type": "stream",
     "text": [
      "Accuracy of the Model in epoch 1 : 95.6140350877193\n",
      "Loss of the current epoch:  0.18801481198639639\n",
      "Accuracy of the Model in epoch 2 : 94.73684210526315\n",
      "Loss of the current epoch:  0.1854656307747768\n",
      "Accuracy of the Model in epoch 3 : 94.44444444444444\n",
      "Loss of the current epoch:  0.19118914568936954\n",
      "Accuracy of the Model in epoch 4 : 93.56725146198829\n",
      "Loss of the current epoch:  0.18950039245969347\n",
      "Accuracy of the Model in epoch 5 : 95.6140350877193\n",
      "Loss of the current epoch:  0.1898718094693557\n",
      "Accuracy of the Model in epoch 6 : 94.15204678362574\n",
      "Loss of the current epoch:  0.18971684964133367\n",
      "Accuracy of the Model in epoch 7 : 95.90643274853801\n",
      "Loss of the current epoch:  0.18923359543239604\n",
      "Accuracy of the Model in epoch 8 : 95.90643274853801\n",
      "Loss of the current epoch:  0.1875723095501833\n",
      "Accuracy of the Model in epoch 9 : 94.44444444444444\n",
      "Loss of the current epoch:  0.1884492726038514\n",
      "Accuracy of the Model in epoch 10 : 93.27485380116958\n",
      "Loss of the current epoch:  0.1888174870877617\n",
      "----------------K fold:10----------:\n"
     ]
    },
    {
     "data": {
      "application/vnd.jupyter.widget-view+json": {
       "model_id": "6689b938a8b34610ac3cfaf061060f28",
       "version_major": 2,
       "version_minor": 0
      },
      "text/plain": [
       "Training:   0%|          | 0/10 [00:00<?, ?it/s]"
      ]
     },
     "metadata": {},
     "output_type": "display_data"
    },
    {
     "name": "stdout",
     "output_type": "stream",
     "text": [
      "Accuracy of the Model in epoch 1 : 94.44444444444444\n",
      "Loss of the current epoch:  0.18254943185996625\n",
      "Accuracy of the Model in epoch 2 : 92.69005847953217\n",
      "Loss of the current epoch:  0.18796574372437694\n",
      "Accuracy of the Model in epoch 3 : 94.15204678362574\n",
      "Loss of the current epoch:  0.18358522830831428\n",
      "Accuracy of the Model in epoch 4 : 94.73684210526315\n",
      "Loss of the current epoch:  0.182311479077344\n",
      "Accuracy of the Model in epoch 5 : 93.27485380116958\n",
      "Loss of the current epoch:  0.182133815287342\n",
      "Accuracy of the Model in epoch 6 : 92.69005847953217\n",
      "Loss of the current epoch:  0.18263009776641684\n",
      "Accuracy of the Model in epoch 7 : 95.02923976608187\n",
      "Loss of the current epoch:  0.184097891913787\n",
      "Accuracy of the Model in epoch 8 : 94.15204678362574\n",
      "Loss of the current epoch:  0.18375620184346073\n",
      "Accuracy of the Model in epoch 9 : 93.27485380116958\n",
      "Loss of the current epoch:  0.18452054431401593\n",
      "Accuracy of the Model in epoch 10 : 94.15204678362574\n",
      "Loss of the current epoch:  0.18339814114414396\n"
     ]
    }
   ],
   "source": [
    "running_loss_epochs = []\n",
    "epochs_loss = []\n",
    "accuracy_epochs = []\n",
    "num_epochs = 10   # define no. of epochs to run\n",
    "counter = 0\n",
    "kf = KFold(n_splits=10, shuffle = True)\n",
    "for i, (train_index, test_index) in enumerate(kf.split(train_val_loader)):\n",
    "    print(\"----------------K fold:{}----------:\".format(i+1))\n",
    "    #print(\"TRAIN:\", train_index, \"TEST:\", test_index)\n",
    "\n",
    "    train = torch.utils.data.Subset(train_val_loader, train_index)\n",
    "    test = torch.utils.data.Subset(train_val_loader, test_index)\n",
    "\n",
    "    trainloader = torch.utils.data.DataLoader(dataset=train, shuffle=True, batch_size=50, num_workers=2)\n",
    "    testloader = torch.utils.data.DataLoader(dataset=test,shuffle=True, batch_size=50, num_workers=2)\n",
    "    \n",
    "    running_loss,epoch_loss,accuracy = train_model(model, criterion, optimizer, trainloader, testloader,num_epochs)\n",
    "    running_loss_epochs.append(np.mean(running_loss))\n",
    "    epochs_loss.append(np.mean(epoch_loss))\n",
    "    accuracy_epochs.append(np.mean(accuracy))"
   ]
  },
  {
   "cell_type": "code",
   "execution_count": 533,
   "id": "5afc5e8f",
   "metadata": {},
   "outputs": [
    {
     "name": "stdout",
     "output_type": "stream",
     "text": [
      "[94.56140350877192, 93.85964912280699, 94.2982456140351, 94.73684210526315, 95.67251461988305, 96.28654970760235, 93.88888888888889, 94.12280701754385, 94.76608187134502, 93.85964912280701]\n"
     ]
    },
    {
     "data": {
      "text/plain": [
       "[<matplotlib.lines.Line2D at 0x15281da3220>]"
      ]
     },
     "execution_count": 533,
     "metadata": {},
     "output_type": "execute_result"
    },
    {
     "data": {
      "image/png": "[encoded data removed]",
      "text/plain": [
       "<Figure size 432x288 with 1 Axes>"
      ]
     },
     "metadata": {
      "needs_background": "light"
     },
     "output_type": "display_data"
    }
   ],
   "source": [
    "print(accuracy_epochs)\n",
    "plt.plot(accuracy_epochs)\n",
    "#[94.56140350877192, 93.85964912280699, 94.2982456140351, 94.73684210526315, 95.67251461988305, 96.28654970760235, 93.88888888888889, 94.12280701754385, 94.76608187134502, 93.85964912280701]"
   ]
  },
  {
   "cell_type": "code",
   "execution_count": 539,
   "id": "81e6da9a",
   "metadata": {},
   "outputs": [
    {
     "name": "stdout",
     "output_type": "stream",
     "text": [
      "              precision    recall  f1-score   support\n",
      "\n",
      "     N95mask       0.97      0.89      0.93        80\n",
      "   clothmask       0.92      0.98      0.95        91\n",
      "      nomask       0.99      0.92      0.96        92\n",
      "surgicalmask       0.87      0.95      0.91        79\n",
      "\n",
      "    accuracy                           0.94       342\n",
      "   macro avg       0.94      0.93      0.93       342\n",
      "weighted avg       0.94      0.94      0.94       342\n",
      "\n"
     ]
    }
   ],
   "source": [
    "model.eval()\n",
    "\n",
    "y_true8 = []\n",
    "y_pred8 = []\n",
    "\n",
    "with torch.no_grad():\n",
    "    correct = 0\n",
    "    total = 0\n",
    "    for images, labels in testloader:\n",
    "        outputs = model(images)\n",
    "        _, predicted = torch.max(outputs.data, 1)\n",
    "        \n",
    "        for l,p in zip(labels.numpy(), predicted.numpy()):\n",
    "            y_true8.append(targets[l])\n",
    "            y_pred8.append(targets[p])\n",
    "print(classification_report(y_true8, y_pred8, target_names=targets))"
   ]
  },
  {
   "cell_type": "markdown",
   "id": "8b9677ae",
   "metadata": {},
   "source": [
    "#### Old dataset "
   ]
  },
  {
   "cell_type": "code",
   "execution_count": 540,
   "id": "a20cb01e",
   "metadata": {},
   "outputs": [
    {
     "name": "stdout",
     "output_type": "stream",
     "text": [
      "----------------K fold:1----------:\n"
     ]
    },
    {
     "data": {
      "application/vnd.jupyter.widget-view+json": {
       "model_id": "76f284a124b44cc082d279bfb4b74292",
       "version_major": 2,
       "version_minor": 0
      },
      "text/plain": [
       "Training:   0%|          | 0/10 [00:00<?, ?it/s]"
      ]
     },
     "metadata": {},
     "output_type": "display_data"
    },
    {
     "name": "stdout",
     "output_type": "stream",
     "text": [
      "Accuracy of the Model in epoch 1 : 59.195402298850574\n",
      "Loss of the current epoch:  4.9398708790540695\n",
      "Accuracy of the Model in epoch 2 : 59.195402298850574\n",
      "Loss of the current epoch:  4.9168160036206245\n",
      "Accuracy of the Model in epoch 3 : 62.06896551724138\n",
      "Loss of the current epoch:  4.902634570995967\n",
      "Accuracy of the Model in epoch 4 : 60.3448275862069\n",
      "Loss of the current epoch:  4.906584510579705\n",
      "Accuracy of the Model in epoch 5 : 62.06896551724138\n",
      "Loss of the current epoch:  4.8983071714639665\n",
      "Accuracy of the Model in epoch 6 : 59.77011494252874\n",
      "Loss of the current epoch:  4.909193854779005\n",
      "Accuracy of the Model in epoch 7 : 61.49425287356321\n",
      "Loss of the current epoch:  4.914093166589737\n",
      "Accuracy of the Model in epoch 8 : 62.643678160919535\n",
      "Loss of the current epoch:  4.939376940019429\n",
      "Accuracy of the Model in epoch 9 : 60.3448275862069\n",
      "Loss of the current epoch:  4.9458859985073405\n",
      "Accuracy of the Model in epoch 10 : 60.3448275862069\n",
      "Loss of the current epoch:  4.9669960051774975\n",
      "----------------K fold:2----------:\n"
     ]
    },
    {
     "data": {
      "application/vnd.jupyter.widget-view+json": {
       "model_id": "467926adea484ec9a89cf62df0e6eeef",
       "version_major": 2,
       "version_minor": 0
      },
      "text/plain": [
       "Training:   0%|          | 0/10 [00:00<?, ?it/s]"
      ]
     },
     "metadata": {},
     "output_type": "display_data"
    },
    {
     "name": "stdout",
     "output_type": "stream",
     "text": [
      "Accuracy of the Model in epoch 1 : 59.195402298850574\n",
      "Loss of the current epoch:  4.820606172084808\n",
      "Accuracy of the Model in epoch 2 : 58.620689655172406\n",
      "Loss of the current epoch:  4.855312671512365\n",
      "Accuracy of the Model in epoch 3 : 58.04597701149425\n",
      "Loss of the current epoch:  4.896488331258297\n",
      "Accuracy of the Model in epoch 4 : 59.77011494252874\n",
      "Loss of the current epoch:  4.905632587149739\n",
      "Accuracy of the Model in epoch 5 : 59.195402298850574\n",
      "Loss of the current epoch:  4.884767219424248\n",
      "Accuracy of the Model in epoch 6 : 57.47126436781609\n",
      "Loss of the current epoch:  4.884224014977614\n",
      "Accuracy of the Model in epoch 7 : 57.47126436781609\n",
      "Loss of the current epoch:  4.8982324334127565\n",
      "Accuracy of the Model in epoch 8 : 58.620689655172406\n",
      "Loss of the current epoch:  4.895386538468301\n",
      "Accuracy of the Model in epoch 9 : 57.47126436781609\n",
      "Loss of the current epoch:  4.898139494160811\n",
      "Accuracy of the Model in epoch 10 : 56.896551724137936\n",
      "Loss of the current epoch:  4.8911143384873865\n",
      "----------------K fold:3----------:\n"
     ]
    },
    {
     "data": {
      "application/vnd.jupyter.widget-view+json": {
       "model_id": "4a18d1d4be6a49d487fe3fe0cf02d710",
       "version_major": 2,
       "version_minor": 0
      },
      "text/plain": [
       "Training:   0%|          | 0/10 [00:00<?, ?it/s]"
      ]
     },
     "metadata": {},
     "output_type": "display_data"
    },
    {
     "name": "stdout",
     "output_type": "stream",
     "text": [
      "Accuracy of the Model in epoch 1 : 53.44827586206896\n",
      "Loss of the current epoch:  4.998336054384708\n",
      "Accuracy of the Model in epoch 2 : 54.59770114942529\n",
      "Loss of the current epoch:  4.905446168035269\n",
      "Accuracy of the Model in epoch 3 : 55.172413793103445\n",
      "Loss of the current epoch:  4.87049700319767\n",
      "Accuracy of the Model in epoch 4 : 55.172413793103445\n",
      "Loss of the current epoch:  4.860170600935817\n",
      "Accuracy of the Model in epoch 5 : 54.02298850574713\n",
      "Loss of the current epoch:  4.8524941697716715\n",
      "Accuracy of the Model in epoch 6 : 55.172413793103445\n",
      "Loss of the current epoch:  4.828670516610146\n",
      "Accuracy of the Model in epoch 7 : 55.172413793103445\n",
      "Loss of the current epoch:  4.846368149987289\n",
      "Accuracy of the Model in epoch 8 : 55.172413793103445\n",
      "Loss of the current epoch:  4.847393446601927\n",
      "Accuracy of the Model in epoch 9 : 54.59770114942529\n",
      "Loss of the current epoch:  4.860402317510711\n",
      "Accuracy of the Model in epoch 10 : 54.59770114942529\n",
      "Loss of the current epoch:  4.858356894552708\n",
      "----------------K fold:4----------:\n"
     ]
    },
    {
     "data": {
      "application/vnd.jupyter.widget-view+json": {
       "model_id": "f7ac78af990f4abaad2c7826dd07f274",
       "version_major": 2,
       "version_minor": 0
      },
      "text/plain": [
       "Training:   0%|          | 0/10 [00:00<?, ?it/s]"
      ]
     },
     "metadata": {},
     "output_type": "display_data"
    },
    {
     "name": "stdout",
     "output_type": "stream",
     "text": [
      "Accuracy of the Model in epoch 1 : 58.04597701149425\n",
      "Loss of the current epoch:  4.7437824085354805\n",
      "Accuracy of the Model in epoch 2 : 56.32183908045977\n",
      "Loss of the current epoch:  4.801488734781742\n",
      "Accuracy of the Model in epoch 3 : 56.32183908045977\n",
      "Loss of the current epoch:  4.844979532063007\n",
      "Accuracy of the Model in epoch 4 : 58.04597701149425\n",
      "Loss of the current epoch:  4.814474796876311\n",
      "Accuracy of the Model in epoch 5 : 58.04597701149425\n",
      "Loss of the current epoch:  4.841778656840324\n",
      "Accuracy of the Model in epoch 6 : 58.620689655172406\n",
      "Loss of the current epoch:  4.855528771877289\n",
      "Accuracy of the Model in epoch 7 : 55.74712643678161\n",
      "Loss of the current epoch:  4.885265451456819\n",
      "Accuracy of the Model in epoch 8 : 56.896551724137936\n",
      "Loss of the current epoch:  4.8827018439769745\n",
      "Accuracy of the Model in epoch 9 : 58.620689655172406\n",
      "Loss of the current epoch:  4.870298119882743\n",
      "Accuracy of the Model in epoch 10 : 58.04597701149425\n",
      "Loss of the current epoch:  4.879994405061007\n",
      "----------------K fold:5----------:\n"
     ]
    },
    {
     "data": {
      "application/vnd.jupyter.widget-view+json": {
       "model_id": "4e0c474767c3416fb2c16acd58a92310",
       "version_major": 2,
       "version_minor": 0
      },
      "text/plain": [
       "Training:   0%|          | 0/10 [00:00<?, ?it/s]"
      ]
     },
     "metadata": {},
     "output_type": "display_data"
    },
    {
     "name": "stdout",
     "output_type": "stream",
     "text": [
      "Accuracy of the Model in epoch 1 : 59.77011494252874\n",
      "Loss of the current epoch:  4.8369733691215515\n",
      "Accuracy of the Model in epoch 2 : 59.77011494252874\n",
      "Loss of the current epoch:  4.896904680877924\n",
      "Accuracy of the Model in epoch 3 : 60.3448275862069\n",
      "Loss of the current epoch:  4.902958072721958\n",
      "Accuracy of the Model in epoch 4 : 61.49425287356321\n",
      "Loss of the current epoch:  4.910096103325486\n",
      "Accuracy of the Model in epoch 5 : 59.195402298850574\n",
      "Loss of the current epoch:  4.90375175923109\n",
      "Accuracy of the Model in epoch 6 : 59.77011494252874\n",
      "Loss of the current epoch:  4.919524146864812\n",
      "Accuracy of the Model in epoch 7 : 58.620689655172406\n",
      "Loss of the current epoch:  4.92154100643737\n",
      "Accuracy of the Model in epoch 8 : 60.91954022988506\n",
      "Loss of the current epoch:  4.927091370336711\n",
      "Accuracy of the Model in epoch 9 : 59.195402298850574\n",
      "Loss of the current epoch:  4.92578882806831\n",
      "Accuracy of the Model in epoch 10 : 59.77011494252874\n",
      "Loss of the current epoch:  4.933228983730078\n",
      "----------------K fold:6----------:\n"
     ]
    },
    {
     "data": {
      "application/vnd.jupyter.widget-view+json": {
       "model_id": "215215db76bb42b194f6d188107412c9",
       "version_major": 2,
       "version_minor": 0
      },
      "text/plain": [
       "Training:   0%|          | 0/10 [00:00<?, ?it/s]"
      ]
     },
     "metadata": {},
     "output_type": "display_data"
    },
    {
     "name": "stdout",
     "output_type": "stream",
     "text": [
      "Accuracy of the Model in epoch 1 : 56.32183908045977\n",
      "Loss of the current epoch:  4.834886373952031\n",
      "Accuracy of the Model in epoch 2 : 57.47126436781609\n",
      "Loss of the current epoch:  4.819501436315477\n",
      "Accuracy of the Model in epoch 3 : 58.04597701149425\n",
      "Loss of the current epoch:  4.872802197312315\n",
      "Accuracy of the Model in epoch 4 : 58.620689655172406\n",
      "Loss of the current epoch:  4.837312263902277\n",
      "Accuracy of the Model in epoch 5 : 56.32183908045977\n",
      "Loss of the current epoch:  4.8752491440623995\n",
      "Accuracy of the Model in epoch 6 : 58.04597701149425\n",
      "Loss of the current epoch:  4.880464708742996\n",
      "Accuracy of the Model in epoch 7 : 57.47126436781609\n",
      "Loss of the current epoch:  4.875291350430676\n",
      "Accuracy of the Model in epoch 8 : 58.04597701149425\n",
      "Loss of the current epoch:  4.874361330410466\n",
      "Accuracy of the Model in epoch 9 : 59.195402298850574\n",
      "Loss of the current epoch:  4.860376400045222\n",
      "Accuracy of the Model in epoch 10 : 59.77011494252874\n",
      "Loss of the current epoch:  4.848505223169923\n",
      "----------------K fold:7----------:\n"
     ]
    },
    {
     "data": {
      "application/vnd.jupyter.widget-view+json": {
       "model_id": "68d17bb7cf7b4757baf1372063a0d9bf",
       "version_major": 2,
       "version_minor": 0
      },
      "text/plain": [
       "Training:   0%|          | 0/10 [00:00<?, ?it/s]"
      ]
     },
     "metadata": {},
     "output_type": "display_data"
    },
    {
     "name": "stdout",
     "output_type": "stream",
     "text": [
      "Accuracy of the Model in epoch 1 : 52.87356321839081\n",
      "Loss of the current epoch:  4.892358146607876\n",
      "Accuracy of the Model in epoch 2 : 51.14942528735632\n",
      "Loss of the current epoch:  4.797184547409415\n",
      "Accuracy of the Model in epoch 3 : 54.02298850574713\n",
      "Loss of the current epoch:  4.772991583993037\n",
      "Accuracy of the Model in epoch 4 : 52.87356321839081\n",
      "Loss of the current epoch:  4.747179781086743\n",
      "Accuracy of the Model in epoch 5 : 54.02298850574713\n",
      "Loss of the current epoch:  4.723315069824457\n",
      "Accuracy of the Model in epoch 6 : 51.724137931034484\n",
      "Loss of the current epoch:  4.727551586305101\n",
      "Accuracy of the Model in epoch 7 : 54.59770114942529\n",
      "Loss of the current epoch:  4.744490409003837\n",
      "Accuracy of the Model in epoch 8 : 52.29885057471264\n",
      "Loss of the current epoch:  4.743982306215912\n",
      "Accuracy of the Model in epoch 9 : 52.29885057471264\n",
      "Loss of the current epoch:  4.736367718627055\n",
      "Accuracy of the Model in epoch 10 : 53.44827586206896\n",
      "Loss of the current epoch:  4.756768010184169\n",
      "----------------K fold:8----------:\n"
     ]
    },
    {
     "data": {
      "application/vnd.jupyter.widget-view+json": {
       "model_id": "432384f4d82447499ed2237287e9ae7d",
       "version_major": 2,
       "version_minor": 0
      },
      "text/plain": [
       "Training:   0%|          | 0/10 [00:00<?, ?it/s]"
      ]
     },
     "metadata": {},
     "output_type": "display_data"
    },
    {
     "name": "stdout",
     "output_type": "stream",
     "text": [
      "Accuracy of the Model in epoch 1 : 64.16184971098265\n",
      "Loss of the current epoch:  4.888656355440617\n",
      "Accuracy of the Model in epoch 2 : 64.73988439306359\n",
      "Loss of the current epoch:  4.867306496948004\n",
      "Accuracy of the Model in epoch 3 : 65.3179190751445\n",
      "Loss of the current epoch:  4.816786368687947\n",
      "Accuracy of the Model in epoch 4 : 63.58381502890174\n",
      "Loss of the current epoch:  4.876505870372057\n",
      "Accuracy of the Model in epoch 5 : 63.58381502890174\n",
      "Loss of the current epoch:  4.879872407019138\n",
      "Accuracy of the Model in epoch 6 : 64.16184971098265\n",
      "Loss of the current epoch:  4.895561393350363\n",
      "Accuracy of the Model in epoch 7 : 65.3179190751445\n",
      "Loss of the current epoch:  4.881711473422391\n",
      "Accuracy of the Model in epoch 8 : 65.3179190751445\n",
      "Loss of the current epoch:  4.884059552103281\n",
      "Accuracy of the Model in epoch 9 : 64.16184971098265\n",
      "Loss of the current epoch:  4.891751625057724\n",
      "Accuracy of the Model in epoch 10 : 64.73988439306359\n",
      "Loss of the current epoch:  4.882566290721297\n",
      "----------------K fold:9----------:\n"
     ]
    },
    {
     "data": {
      "application/vnd.jupyter.widget-view+json": {
       "model_id": "e02cc66d3f6d4d5891d36be793ca9910",
       "version_major": 2,
       "version_minor": 0
      },
      "text/plain": [
       "Training:   0%|          | 0/10 [00:00<?, ?it/s]"
      ]
     },
     "metadata": {},
     "output_type": "display_data"
    },
    {
     "name": "stdout",
     "output_type": "stream",
     "text": [
      "Accuracy of the Model in epoch 1 : 54.33526011560693\n",
      "Loss of the current epoch:  4.9573841243982315\n",
      "Accuracy of the Model in epoch 2 : 53.179190751445084\n",
      "Loss of the current epoch:  4.907916150987148\n",
      "Accuracy of the Model in epoch 3 : 54.33526011560693\n",
      "Loss of the current epoch:  4.929669285813968\n",
      "Accuracy of the Model in epoch 4 : 56.64739884393064\n",
      "Loss of the current epoch:  4.90249596349895\n",
      "Accuracy of the Model in epoch 5 : 55.49132947976878\n",
      "Loss of the current epoch:  4.906368893384934\n",
      "Accuracy of the Model in epoch 6 : 54.91329479768786\n",
      "Loss of the current epoch:  4.912112804750602\n",
      "Accuracy of the Model in epoch 7 : 54.91329479768786\n",
      "Loss of the current epoch:  4.891631944371121\n",
      "Accuracy of the Model in epoch 8 : 54.91329479768786\n",
      "Loss of the current epoch:  4.8763801525346935\n",
      "Accuracy of the Model in epoch 9 : 55.49132947976878\n",
      "Loss of the current epoch:  4.864079215874274\n",
      "Accuracy of the Model in epoch 10 : 54.33526011560693\n",
      "Loss of the current epoch:  4.849509999528527\n",
      "----------------K fold:10----------:\n"
     ]
    },
    {
     "data": {
      "application/vnd.jupyter.widget-view+json": {
       "model_id": "8b2cc731f51e4378bdf0a3af7aae142b",
       "version_major": 2,
       "version_minor": 0
      },
      "text/plain": [
       "Training:   0%|          | 0/10 [00:00<?, ?it/s]"
      ]
     },
     "metadata": {},
     "output_type": "display_data"
    },
    {
     "name": "stdout",
     "output_type": "stream",
     "text": [
      "Accuracy of the Model in epoch 1 : 58.38150289017341\n",
      "Loss of the current epoch:  4.884003438055515\n",
      "Accuracy of the Model in epoch 2 : 58.95953757225434\n",
      "Loss of the current epoch:  4.937010619789362\n",
      "Accuracy of the Model in epoch 3 : 56.06936416184971\n",
      "Loss of the current epoch:  4.894042643407981\n",
      "Accuracy of the Model in epoch 4 : 57.22543352601156\n",
      "Loss of the current epoch:  4.888480186462402\n",
      "Accuracy of the Model in epoch 5 : 58.38150289017341\n",
      "Loss of the current epoch:  4.857555352151394\n",
      "Accuracy of the Model in epoch 6 : 59.53757225433526\n",
      "Loss of the current epoch:  4.8809598833322525\n",
      "Accuracy of the Model in epoch 7 : 59.53757225433526\n",
      "Loss of the current epoch:  4.880232658769403\n",
      "Accuracy of the Model in epoch 8 : 57.80346820809249\n",
      "Loss of the current epoch:  4.874968499876559\n",
      "Accuracy of the Model in epoch 9 : 57.22543352601156\n",
      "Loss of the current epoch:  4.867069454656707\n",
      "Accuracy of the Model in epoch 10 : 60.115606936416185\n",
      "Loss of the current epoch:  4.874839168787003\n"
     ]
    }
   ],
   "source": [
    "running_loss_epochs2 = []\n",
    "epochs_loss2 = []\n",
    "accuracy_epochs2 = []\n",
    "num_epochs = 10   # define no. of epochs to run\n",
    "counter = 0\n",
    "kf = KFold(n_splits=10, shuffle = True)\n",
    "for i, (train_index, test_index) in enumerate(kf.split(train_val_loader2)):\n",
    "    print(\"----------------K fold:{}----------:\".format(i+1))\n",
    "    #print(\"TRAIN:\", train_index, \"TEST:\", test_index)\n",
    "\n",
    "    train2 = torch.utils.data.Subset(train_val_loader2, train_index)\n",
    "    test2 = torch.utils.data.Subset(train_val_loader2, test_index)\n",
    "\n",
    "    trainloader2 = torch.utils.data.DataLoader(dataset=train2, shuffle=True, batch_size=50, num_workers=2)\n",
    "    testloader2 = torch.utils.data.DataLoader(dataset=test2,shuffle=True, batch_size=50, num_workers=2)\n",
    "    \n",
    "    running_loss,epoch_loss,accuracy = train_model(model, criterion, optimizer, trainloader2, testloader2,num_epochs)\n",
    "    running_loss_epochs2.append(np.mean(running_loss))\n",
    "    epochs_loss2.append(np.mean(epoch_loss))\n",
    "    accuracy_epochs2.append(np.mean(accuracy))"
   ]
  },
  {
   "cell_type": "code",
   "execution_count": 541,
   "id": "9bbc3d7c",
   "metadata": {},
   "outputs": [
    {
     "name": "stdout",
     "output_type": "stream",
     "text": [
      "[60.747126436781606, 58.27586206896551, 54.712643678160916, 57.47126436781609, 59.885057471264375, 57.93103448275862, 52.93103448275862, 64.5086705202312, 54.85549132947976, 58.323699421965316]\n"
     ]
    },
    {
     "data": {
      "text/plain": [
       "[<matplotlib.lines.Line2D at 0x1528a0cf190>]"
      ]
     },
     "execution_count": 541,
     "metadata": {},
     "output_type": "execute_result"
    },
    {
     "data": {
      "image/png": "[encoded data removed]",
      "text/plain": [
       "<Figure size 432x288 with 1 Axes>"
      ]
     },
     "metadata": {
      "needs_background": "light"
     },
     "output_type": "display_data"
    }
   ],
   "source": [
    "print(accuracy_epochs2)\n",
    "plt.plot(accuracy_epochs2)"
   ]
  },
  {
   "cell_type": "code",
   "execution_count": 542,
   "id": "fe7ffd98",
   "metadata": {},
   "outputs": [
    {
     "name": "stdout",
     "output_type": "stream",
     "text": [
      "              precision    recall  f1-score   support\n",
      "\n",
      "     N95mask       0.23      0.21      0.22        42\n",
      "   clothmask       0.20      0.21      0.20        43\n",
      "      nomask       0.94      0.96      0.95        47\n",
      "surgicalmask       0.95      0.93      0.94        41\n",
      "\n",
      "    accuracy                           0.58       173\n",
      "   macro avg       0.58      0.58      0.58       173\n",
      "weighted avg       0.58      0.58      0.58       173\n",
      "\n"
     ]
    }
   ],
   "source": [
    "model.eval()\n",
    "\n",
    "y_true9 = []\n",
    "y_pred9 = []\n",
    "\n",
    "with torch.no_grad():\n",
    "    correct = 0\n",
    "    total = 0\n",
    "    for images, labels in testloader2:\n",
    "        outputs = model(images)\n",
    "        _, predicted = torch.max(outputs.data, 1)\n",
    "        \n",
    "        for l,p in zip(labels.numpy(), predicted.numpy()):\n",
    "            y_true9.append(targets[l])\n",
    "            y_pred9.append(targets[p])\n",
    "print(classification_report(y_true9, y_pred9, target_names=targets))"
   ]
  },
  {
   "cell_type": "markdown",
   "id": "8a07f1d0",
   "metadata": {},
   "source": [
    "# Below is not in the project instrustion"
   ]
  },
  {
   "cell_type": "markdown",
   "id": "1183fb85",
   "metadata": {},
   "source": [
    "#### Visualize the result"
   ]
  },
  {
   "cell_type": "code",
   "execution_count": 556,
   "id": "aeca5d29",
   "metadata": {},
   "outputs": [],
   "source": [
    "#Method for show the image\n",
    "def imshow(image, ax=None, title=None):\n",
    "    \"\"\"Imshow for Tensor.\"\"\"\n",
    "    if ax is None:\n",
    "        fig, ax = plt.subplots()\n",
    "    image = image.numpy().transpose((1, 2, 0))\n",
    "\n",
    "    ax.imshow(image)\n",
    "    ax.spines['top'].set_visible(False)\n",
    "    ax.spines['right'].set_visible(False)\n",
    "    ax.spines['left'].set_visible(False)\n",
    "    ax.spines['bottom'].set_visible(False)\n",
    "    ax.tick_params(axis='both', length=0)\n",
    "    ax.set_xticklabels('')\n",
    "    ax.set_yticklabels('')\n",
    "\n",
    "    return ax"
   ]
  },
  {
   "cell_type": "code",
   "execution_count": 557,
   "id": "6e36053b",
   "metadata": {},
   "outputs": [],
   "source": [
    "model.to('cpu')\n",
    "model.eval()\n",
    "images, targets = next(iter(testloader))"
   ]
  },
  {
   "cell_type": "code",
   "execution_count": 558,
   "id": "ffbdf3a5",
   "metadata": {},
   "outputs": [],
   "source": [
    "with torch.no_grad():\n",
    "    output = model.forward(images)\n",
    "\n",
    "ps = F.softmax(output,dim=1)"
   ]
  },
  {
   "cell_type": "code",
   "execution_count": 559,
   "id": "f5379618",
   "metadata": {},
   "outputs": [
    {
     "data": {
      "text/plain": [
       "<AxesSubplot:>"
      ]
     },
     "execution_count": 559,
     "metadata": {},
     "output_type": "execute_result"
    },
    {
     "data": {
      "image/png": "[encoded data removed]",
      "text/plain": [
       "<Figure size 432x288 with 1 Axes>"
      ]
     },
     "metadata": {
      "needs_background": "light"
     },
     "output_type": "display_data"
    }
   ],
   "source": [
    "# This block is choosing randomly from the test set and out put the image\n",
    "#You can run this block multiple times to try different images\n",
    "\n",
    "rand_img = np.random.randint(50, size=1)[0]\n",
    "probability = ps[rand_img].data.numpy().squeeze()\n",
    "imshow(images[rand_img])"
   ]
  },
  {
   "cell_type": "code",
   "execution_count": null,
   "id": "f35ba8d7",
   "metadata": {},
   "outputs": [],
   "source": [
    "#This block is for showing the prediction of the above image by showing the probability\n",
    "#You should run it after you choose a image from the block above \n",
    "#You should run the whole \"Visualize the result\" block if you try to run the block below and come back to this one\n",
    "\n",
    "ind = np.arange(4)\n",
    "targets = ['N95mask', 'clothmask', 'nomask', 'surgicalmask']\n",
    "width = 0.35\n",
    "locations = ind\n",
    "\n",
    "class_probability = plt.barh(ind, probability, width, alpha=1, label = 'Face Mask')\n",
    "\n",
    "plt.yticks(np.arange(4))\n",
    "plt.title('Probability')\n",
    "plt.yticks(locations,targets)\n",
    "\n",
    "#legend\n",
    "plt.legend()\n",
    "plt.ylim(top=5)\n",
    "plt.ylim(bottom=-2)\n",
    "plt.show();"
   ]
  },
  {
   "cell_type": "markdown",
   "id": "40eef6b2",
   "metadata": {},
   "source": [
    "#### User Input"
   ]
  },
  {
   "cell_type": "code",
   "execution_count": 566,
   "id": "064e6925",
   "metadata": {},
   "outputs": [
    {
     "data": {
      "text/plain": [
       "<AxesSubplot:>"
      ]
     },
     "execution_count": 566,
     "metadata": {},
     "output_type": "execute_result"
    },
    {
     "data": {
      "image/png": "[encoded data removed]",
      "text/plain": [
       "<Figure size 432x288 with 1 Axes>"
      ]
     },
     "metadata": {
      "needs_background": "light"
     },
     "output_type": "display_data"
    }
   ],
   "source": [
    "#User can input their own image by putting the image in folder \"../Comp_472 Group Project/dataset/userInput/userInput\"\n",
    "#The folder contains an example\n",
    "#REMEMBER only one image at a time can be process,for multiple images,only the first one in the folder will be considered\n",
    "\n",
    "user_dir = \"../Comp_472 Group Project - Copy/dataset/UserInput\"\n",
    "user_dataset = torchvision.datasets.ImageFolder(user_dir, transform = train_transform)\n",
    "userloader = torch.utils.data.DataLoader(user_dataset, batch_size=64, shuffle = False)\n",
    "\n",
    "model.to('cpu')\n",
    "model.eval()\n",
    "images, targets = next(iter(userloader))\n",
    "\n",
    "with torch.no_grad():\n",
    "    output = model.forward(images)\n",
    "\n",
    "ps = F.softmax(output,dim=1)\n",
    "\n",
    "probability = ps[0].data.numpy().squeeze()\n",
    "imshow(images[0])\n"
   ]
  },
  {
   "cell_type": "code",
   "execution_count": null,
   "id": "441b0556",
   "metadata": {},
   "outputs": [],
   "source": [
    "#This block is for showing the prediction of the above image by showing the probability\n",
    "#You should run it after you choose a image from the block above \n",
    "\n",
    "ind = np.arange(4)\n",
    "targets = ['N95mask', 'clothmask', 'nomask', 'surgicalmask']\n",
    "width = 0.35\n",
    "locations = ind\n",
    "\n",
    "class_probability = plt.barh(ind, probability, width, alpha=1, label = 'Face Mask')\n",
    "\n",
    "plt.yticks(np.arange(4))\n",
    "plt.title('Probability')\n",
    "plt.yticks(locations,targets)\n",
    "\n",
    "#legend\n",
    "plt.legend()\n",
    "plt.ylim(top=5)\n",
    "plt.ylim(bottom=-2)\n",
    "plt.show();"
   ]
  },
  {
   "cell_type": "code",
   "execution_count": 464,
   "id": "402a3eab",
   "metadata": {},
   "outputs": [],
   "source": []
  },
  {
   "cell_type": "code",
   "execution_count": 410,
   "id": "50ed31c3",
   "metadata": {},
   "outputs": [],
   "source": []
  },
  {
   "cell_type": "code",
   "execution_count": 411,
   "id": "e939e316",
   "metadata": {},
   "outputs": [],
   "source": []
  },
  {
   "cell_type": "code",
   "execution_count": null,
   "id": "59afb46a",
   "metadata": {},
   "outputs": [],
   "source": []
  },
  {
   "cell_type": "code",
   "execution_count": null,
   "id": "e1d9bff1",
   "metadata": {},
   "outputs": [],
   "source": []
  },
  {
   "cell_type": "code",
   "execution_count": null,
   "id": "82772097",
   "metadata": {},
   "outputs": [],
   "source": []
  },
  {
   "cell_type": "code",
   "execution_count": null,
   "id": "ba7a3b18",
   "metadata": {},
   "outputs": [],
   "source": []
  }
 ],
 "metadata": {
  "kernelspec": {
   "display_name": "Python 3 (ipykernel)",
   "language": "python",
   "name": "python3"
  },
  "language_info": {
   "codemirror_mode": {
    "name": "ipython",
    "version": 3
   },
   "file_extension": ".py",
   "mimetype": "text/x-python",
   "name": "python",
   "nbconvert_exporter": "python",
   "pygments_lexer": "ipython3",
   "version": "3.9.7"
  }
 },
 "nbformat": 4,
 "nbformat_minor": 5
}
